{
 "cells": [
  {
   "cell_type": "code",
   "execution_count": 1,
   "id": "a13f0899-8901-469b-8de8-dc7a1684315c",
   "metadata": {},
   "outputs": [],
   "source": [
    "import pandas as pd\n",
    "import numpy as np\n",
    "import torch\n",
    "import json\n",
    "\n",
    "from datasets import load_dataset\n",
    "from transformers import AutoModelForCausalLM, AutoConfig, AutoTokenizer, AutoModelForSeq2SeqLM"
   ]
  },
  {
   "cell_type": "code",
   "execution_count": 2,
   "id": "ea8a8313-2158-47c3-8c7d-14ad0bce10f7",
   "metadata": {},
   "outputs": [],
   "source": [
    "model_type = \"google/flan-t5-xl\""
   ]
  },
  {
   "cell_type": "code",
   "execution_count": 3,
   "id": "76f1c17e-a7ce-4630-93c5-66529f65f46e",
   "metadata": {},
   "outputs": [
    {
     "data": {
      "application/json": {
       "ascii": false,
       "bar_format": null,
       "colour": null,
       "elapsed": 0.07700705528259277,
       "initial": 0,
       "n": 0,
       "ncols": null,
       "nrows": null,
       "postfix": null,
       "prefix": "Loading checkpoint shards",
       "rate": null,
       "total": 2,
       "unit": "it",
       "unit_divisor": 1000,
       "unit_scale": false
      },
      "application/vnd.jupyter.widget-view+json": {
       "model_id": "b19ef9386cc448fcb6dd68db3c3c33de",
       "version_major": 2,
       "version_minor": 0
      },
      "text/plain": [
       "Loading checkpoint shards:   0%|          | 0/2 [00:00<?, ?it/s]"
      ]
     },
     "metadata": {},
     "output_type": "display_data"
    }
   ],
   "source": [
    "device = \"cuda:0\" if torch.cuda.is_available() else \"cpu\"\n",
    "tokenizer = AutoTokenizer.from_pretrained(model_type)\n",
    "model = AutoModelForSeq2SeqLM.from_pretrained(model_type)\n",
    "model = model.to(device)"
   ]
  },
  {
   "cell_type": "code",
   "execution_count": 4,
   "id": "88d2b30d-e0ee-48e4-9929-a04104e77532",
   "metadata": {},
   "outputs": [],
   "source": [
    "def generate_answer(model, tokenizer, prompt):\n",
    "    input_ids = tokenizer(prompt, return_tensors='pt').to(device)\n",
    "    gen_text = model.generate(**input_ids, max_new_tokens=6, num_beams=1)\n",
    "    gen_text_dec = tokenizer.decode(gen_text[0], skip_special_tokens=True)\n",
    "    answer = gen_text_dec.split(' ')[0]\n",
    "    return answer"
   ]
  },
  {
   "cell_type": "code",
   "execution_count": 5,
   "id": "f17cbbf1-1fb9-4ffb-b18e-957a967907ed",
   "metadata": {},
   "outputs": [],
   "source": [
    "def generate_batch_answers(model, tokenizer, prompts, batch_size=10):\n",
    "    answers = []\n",
    "    full_texts = []\n",
    "\n",
    "    for i in range(0, len(prompts), batch_size):\n",
    "        batch = prompts[i:i+batch_size]\n",
    "        input_ids = tokenizer(batch, return_tensors='pt', padding=True, truncation=True).to(device)\n",
    "        gen_texts = model.generate(**input_ids, max_new_tokens=6, num_beams=1)\n",
    "        for gen_text in gen_texts:\n",
    "            gen_text_dec = tokenizer.decode(gen_text, skip_special_tokens=True)\n",
    "            answer = gen_text_dec.split(' ')[0]\n",
    "            answers.append(answer)\n",
    "\n",
    "    return answers\n"
   ]
  },
  {
   "cell_type": "code",
   "execution_count": 6,
   "id": "da353aca-fb95-4325-b875-54e964d4d4d6",
   "metadata": {},
   "outputs": [],
   "source": [
    "aug_setting = 'query' # the augmentation setting ('demons': 'D', 'demons+query': 'D and q', 'query': 'q')\n",
    "selected_tasks = [1,12,14,16] # the tasks that we want to generate answers\n",
    "batch_size = 60\n",
    "\n",
    "# read dataset\n",
    "for task in selected_tasks:\n",
    "    data = []\n",
    "    with open(f'../data/{aug_setting}_v1/task_{task}.jsonl') as f:\n",
    "        for line in f:\n",
    "            data.append(json.loads(line))\n",
    "    \n",
    "    num_examples = len(data)\n",
    "    prompt_list = [data[i]['prompt'] for i in range(num_examples)]\n",
    "    entity_list = [data[i]['entity'] for i in range(num_examples)]\n",
    "    actual_ans_list = [data[i]['answer'] for i in range(num_examples)]\n",
    "    gen_ans_list = generate_batch_answers(model, tokenizer, prompt_list, batch_size)\n",
    "   \n",
    "\n",
    "    df = pd.DataFrame()\n",
    "    df['prompt'] = prompt_list\n",
    "    df['entity'] = entity_list\n",
    "    df['actual_ans'] = actual_ans_list\n",
    "    df['gen_ans'] = gen_ans_list\n",
    "    # modify the output direction to match dataset and bootstrap version of names\n",
    "    df.to_csv(f'../results/bAbI/v_1_names/{aug_setting}/task_{task}.csv', index = False)"
   ]
  },
  {
   "cell_type": "code",
   "execution_count": null,
   "id": "c806b35b-af80-4180-bacc-06b2646746ff",
   "metadata": {},
   "outputs": [],
   "source": []
  }
 ],
 "metadata": {
  "kernelspec": {
   "display_name": "Python [conda env:anaconda3-myenvNLP]",
   "language": "python",
   "name": "conda-env-anaconda3-myenvNLP-py"
  },
  "language_info": {
   "codemirror_mode": {
    "name": "ipython",
    "version": 3
   },
   "file_extension": ".py",
   "mimetype": "text/x-python",
   "name": "python",
   "nbconvert_exporter": "python",
   "pygments_lexer": "ipython3",
   "version": "3.10.8"
  }
 },
 "nbformat": 4,
 "nbformat_minor": 5
}
