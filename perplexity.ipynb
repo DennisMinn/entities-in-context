{
 "cells": [
  {
   "cell_type": "markdown",
   "id": "39714742",
   "metadata": {},
   "source": [
    "# Motivation\n",
    "\n",
    "1) Calculate prompt perplexity\n",
    "2) Calculate perplexity of ONLY the PREDICTED token conditioned on prompt\n",
    "3) Calculate perplexity of ONLY the TARGET token conditions on prompt\n",
    "\n",
    "Example:\n",
    "Prompt = \"My name is\"\n",
    "Predicted = \"John\"\n",
    "Target = \"Dennis\""
   ]
  },
  {
   "cell_type": "code",
   "execution_count": 1,
   "id": "8d529d01-ccbf-49fe-92c3-5bd5e9d66046",
   "metadata": {},
   "outputs": [],
   "source": [
    "import torch\n",
    "import torch.nn.functional as F\n",
    "from models import *\n",
    "device = torch.device(\"cuda\" if torch.cuda.is_available() else \"cpu\")\n",
    "\n",
    "%load_ext autoreload\n",
    "%autoreload 2"
   ]
  },
  {
   "cell_type": "code",
   "execution_count": null,
   "id": "e3b311cf",
   "metadata": {},
   "outputs": [],
   "source": [
    "model = QuestionAnswerModel(\"google/flan-t5-small\")\n",
    "\n",
    "prompt = \"My name is\"\n",
    "answer = \" Dennis\""
   ]
  },
  {
   "cell_type": "markdown",
   "id": "2dd38c91",
   "metadata": {},
   "source": [
    "# NLL of only PREDICTED/TARGET token(s)"
   ]
  },
  {
   "cell_type": "code",
   "execution_count": 3,
   "id": "cad8499f",
   "metadata": {},
   "outputs": [
    {
     "data": {
      "text/plain": [
       "(tensor(2.0421), tensor(2.0421))"
      ]
     },
     "execution_count": 3,
     "metadata": {},
     "output_type": "execute_result"
    }
   ],
   "source": [
    "# NLL of entire sequence\n",
    "inputs, outputs = model.calculate_perplexity(prompt, answer, mask_prompt=False)\n",
    "logits = outputs.logits.reshape(-1, outputs.logits.shape[-1])\n",
    "target_ids = inputs.reshape(-1)\n",
    "\n",
    "nll_loss = F.cross_entropy(logits, target_ids, reduction=\"none\")\n",
    "nll_loss.mean(), outputs.loss"
   ]
  },
  {
   "cell_type": "code",
   "execution_count": 4,
   "id": "7089e18c",
   "metadata": {
    "scrolled": true
   },
   "outputs": [
    {
     "data": {
      "text/plain": [
       "(tensor(7.8655), tensor(7.8655))"
      ]
     },
     "execution_count": 4,
     "metadata": {},
     "output_type": "execute_result"
    }
   ],
   "source": [
    "# NLL of model response\n",
    "inputs, outputs = model.calculate_perplexity(prompt, answer, mask_prompt=True)\n",
    "logits = outputs.logits.reshape(-1, outputs.logits.shape[-1])\n",
    "target_ids = inputs.reshape(-1)\n",
    "\n",
    "nll_loss = F.cross_entropy(logits, target_ids, reduction=\"none\")\n",
    "nll_loss[-1], outputs.loss"
   ]
  },
  {
   "cell_type": "markdown",
   "id": "8bef5ae9",
   "metadata": {},
   "source": [
    "# Why is the NLL differ between subsequences?"
   ]
  },
  {
   "cell_type": "code",
   "execution_count": 5,
   "id": "16acf909",
   "metadata": {},
   "outputs": [
    {
     "ename": "NameError",
     "evalue": "name 'tokenizer' is not defined",
     "output_type": "error",
     "traceback": [
      "\u001b[0;31m---------------------------------------------------------------------------\u001b[0m",
      "\u001b[0;31mNameError\u001b[0m                                 Traceback (most recent call last)",
      "Cell \u001b[0;32mIn[5], line 7\u001b[0m\n\u001b[1;32m      4\u001b[0m target_ids \u001b[38;5;241m=\u001b[39m inputs\u001b[38;5;241m.\u001b[39mreshape(\u001b[38;5;241m-\u001b[39m\u001b[38;5;241m1\u001b[39m)\n\u001b[1;32m      6\u001b[0m nll_loss \u001b[38;5;241m=\u001b[39m F\u001b[38;5;241m.\u001b[39mcross_entropy(logits, target_ids, reduction\u001b[38;5;241m=\u001b[39m\u001b[38;5;124m\"\u001b[39m\u001b[38;5;124mnone\u001b[39m\u001b[38;5;124m\"\u001b[39m)\n\u001b[0;32m----> 7\u001b[0m nll_loss[:\u001b[38;5;241m-\u001b[39m\u001b[38;5;241m2\u001b[39m]\u001b[38;5;241m.\u001b[39mmean(), \u001b[43mtokenizer\u001b[49m\u001b[38;5;241m.\u001b[39mdecode(target_ids[:\u001b[38;5;241m-\u001b[39m\u001b[38;5;241m2\u001b[39m])\n",
      "\u001b[0;31mNameError\u001b[0m: name 'tokenizer' is not defined"
     ]
    }
   ],
   "source": [
    "# Perplexity of ONLY prompt given prompt + answer (\"My name is Dennis\")\n",
    "inputs, outputs = model.calculate_perplexity(prompt, answer, mask_prompt=False)\n",
    "logits = outputs.logits.reshape(-1, outputs.logits.shape[-1])\n",
    "target_ids = inputs.reshape(-1)\n",
    "\n",
    "nll_loss = F.cross_entropy(logits, target_ids, reduction=\"none\")\n",
    "nll_loss[:-2].mean(), tokenizer.decode(target_ids[:-2])"
   ]
  },
  {
   "cell_type": "code",
   "execution_count": null,
   "id": "8cb3053c",
   "metadata": {},
   "outputs": [],
   "source": [
    "# Perplexity of ONLY prompt given prompt (\"My name is\")\n",
    "inputs, outputs = model.calculate_perplexity(prompt, \"\", mask_prompt=False)\n",
    "logits = outputs.logits.reshape(-1, outputs.logits.shape[-1])\n",
    "target_ids = inputs.reshape(-1)\n",
    "\n",
    "nll_loss = F.cross_entropy(logits, target_ids, reduction=\"none\")\n",
    "nll_loss[:-1].mean(), tokenizer.decode(target_ids[:-1])"
   ]
  },
  {
   "cell_type": "markdown",
   "id": "0a037229",
   "metadata": {},
   "source": [
    "1) Why is there a difference between perplexities between the subsequences\n",
    "- Cross attention mechanism of transformers\n",
    "\n",
    "2) How is the perplexity of the hypothesis paper calculated?\n",
    "- Perplexity of ONLY prompt given prompt (latter case)\n",
    "\n",
    "3) Do we include the model's reponse when calculating the prompt's perplexity? \\n\n",
    "- No"
   ]
  }
 ],
 "metadata": {
  "kernelspec": {
   "display_name": "Python 3 (ipykernel)",
   "language": "python",
   "name": "python3"
  },
  "language_info": {
   "codemirror_mode": {
    "name": "ipython",
    "version": 3
   },
   "file_extension": ".py",
   "mimetype": "text/x-python",
   "name": "python",
   "nbconvert_exporter": "python",
   "pygments_lexer": "ipython3",
   "version": "3.8.10"
  }
 },
 "nbformat": 4,
 "nbformat_minor": 5
}
