{
 "cells": [
  {
   "cell_type": "markdown",
   "id": "b2b72116",
   "metadata": {},
   "source": [
    "# Motivation\n",
    "\n",
    "1) Calculate prompt perplexity\n",
    "2) Calculate perplexity of ONLY the PREDICTED token conditioned on prompt\n",
    "3) Calculate perplexity of ONLY the TARGET token conditions on prompt\n",
    "\n",
    "Example:\n",
    "Prompt = \"My name is\"\n",
    "Predicted = \"John\"\n",
    "Target = \"Dennis\""
   ]
  },
  {
   "cell_type": "code",
   "execution_count": 1,
   "id": "8d529d01-ccbf-49fe-92c3-5bd5e9d66046",
   "metadata": {},
   "outputs": [],
   "source": [
    "import torch\n",
    "import torch.nn.functional as F\n",
    "from models import *\n",
    "device = torch.device(\"cuda\" if torch.cuda.is_available() else \"cpu\")\n",
    "\n",
    "%load_ext autoreload\n",
    "%autoreload 2"
   ]
  },
  {
   "cell_type": "code",
   "execution_count": 2,
   "id": "9196e60c",
   "metadata": {},
   "outputs": [],
   "source": [
    "model = QuestionAnswerModel(\"google/flan-t5-small\")\n",
    "tokenizer = model.tokenizer\n",
    "\n",
    "prompt = \"My name is\"\n",
    "answer = \" Dennis\""
   ]
  },
  {
   "cell_type": "markdown",
   "id": "e9e866a9",
   "metadata": {},
   "source": [
    "# NLL of only PREDICTED/TARGET token(s)"
   ]
  },
  {
   "cell_type": "code",
   "execution_count": 3,
   "id": "99b75df0",
   "metadata": {},
   "outputs": [
    {
     "data": {
      "text/plain": [
       "(tensor(2.0421), tensor(2.0421))"
      ]
     },
     "execution_count": 3,
     "metadata": {},
     "output_type": "execute_result"
    }
   ],
   "source": [
    "# NLL of entire sequence\n",
    "inputs, outputs = model.calculate_perplexity(prompt, answer, mask_prompt=False)\n",
    "logits = outputs.logits.reshape(-1, outputs.logits.shape[-1])\n",
    "target_ids = inputs.reshape(-1)\n",
    "\n",
    "nll_loss = F.cross_entropy(logits, target_ids, reduction=\"none\")\n",
    "nll_loss.mean(), outputs.loss"
   ]
  },
  {
   "cell_type": "code",
   "execution_count": 4,
   "id": "8f936331",
   "metadata": {
    "scrolled": true
   },
   "outputs": [
    {
     "data": {
      "text/plain": [
       "(tensor(7.8655), tensor(7.8655))"
      ]
     },
     "execution_count": 4,
     "metadata": {},
     "output_type": "execute_result"
    }
   ],
   "source": [
    "# NLL of model response\n",
    "inputs, outputs = model.calculate_perplexity(prompt, answer, mask_prompt=True)\n",
    "logits = outputs.logits.reshape(-1, outputs.logits.shape[-1])\n",
    "target_ids = inputs.reshape(-1)\n",
    "\n",
    "nll_loss = F.cross_entropy(logits, target_ids, reduction=\"none\")\n",
    "nll_loss[-1], outputs.loss"
   ]
  },
  {
   "cell_type": "markdown",
   "id": "7a899072",
   "metadata": {},
   "source": [
    "# Why is the NLL differ between subsequences?"
   ]
  },
  {
   "cell_type": "code",
   "execution_count": 5,
   "id": "95ec11b6",
   "metadata": {},
   "outputs": [
    {
     "data": {
      "text/plain": [
       "(tensor(1.8402), 'My name is')"
      ]
     },
     "execution_count": 5,
     "metadata": {},
     "output_type": "execute_result"
    }
   ],
   "source": [
    "# Perplexity of ONLY prompt given prompt + answer (\"My name is Dennis\")\n",
    "inputs, outputs = model.calculate_perplexity(prompt, answer, mask_prompt=False)\n",
    "logits = outputs.logits.reshape(-1, outputs.logits.shape[-1])\n",
    "target_ids = inputs.reshape(-1)\n",
    "\n",
    "nll_loss = F.cross_entropy(logits, target_ids, reduction=\"none\")\n",
    "nll_loss[:-2].mean(), tokenizer.decode(target_ids[:-2])"
   ]
  },
  {
   "cell_type": "code",
   "execution_count": 6,
   "id": "79023aad",
   "metadata": {},
   "outputs": [
    {
     "data": {
      "text/plain": [
       "(tensor(1.2592), 'My name is')"
      ]
     },
     "execution_count": 6,
     "metadata": {},
     "output_type": "execute_result"
    }
   ],
   "source": [
    "# Perplexity of ONLY prompt given prompt (\"My name is\")\n",
    "inputs, outputs = model.calculate_perplexity(prompt, \"\", mask_prompt=False)\n",
    "logits = outputs.logits.reshape(-1, outputs.logits.shape[-1])\n",
    "target_ids = inputs.reshape(-1)\n",
    "\n",
    "nll_loss = F.cross_entropy(logits, target_ids, reduction=\"none\")\n",
    "nll_loss[:-1].mean(), tokenizer.decode(target_ids[:-1])"
   ]
  },
  {
   "cell_type": "markdown",
   "id": "89ff1214",
   "metadata": {},
   "source": [
    "1) Why is there a difference between perplexities between the subsequences\n",
    "- Cross attention mechanism of transformers\n",
    "\n",
    "2) How is the perplexity of the hypothesis paper calculated?\n",
    "- Perplexity of ONLY prompt given prompt (latter case)\n",
    "\n",
    "3) Do we include the model's reponse when calculating the prompt's perplexity? \\n\n",
    "- No"
   ]
  }
 ],
 "metadata": {
  "kernelspec": {
   "display_name": "Python 3 (ipykernel)",
   "language": "python",
   "name": "python3"
  },
  "language_info": {
   "codemirror_mode": {
    "name": "ipython",
    "version": 3
   },
   "file_extension": ".py",
   "mimetype": "text/x-python",
   "name": "python",
   "nbconvert_exporter": "python",
   "pygments_lexer": "ipython3",
   "version": "3.8.10"
  }
 },
 "nbformat": 4,
 "nbformat_minor": 5
}
